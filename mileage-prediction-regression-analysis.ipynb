{
 "cells": [
  {
   "cell_type": "markdown",
   "id": "f784aa56",
   "metadata": {
    "id": "bqFSY5E5PRm8",
    "papermill": {
     "duration": 0.00706,
     "end_time": "2024-11-29T17:05:20.022533",
     "exception": false,
     "start_time": "2024-11-29T17:05:20.015473",
     "status": "completed"
    },
    "tags": []
   },
   "source": [
    "# **Title of Project** : MILEAGE PREDICTION- REGRESSION ANALYSIS\n",
    "---\n"
   ]
  },
  {
   "cell_type": "markdown",
   "id": "12d2de66",
   "metadata": {
    "id": "X8HPSE9EQZ-D",
    "papermill": {
     "duration": 0.006141,
     "end_time": "2024-11-29T17:05:20.035373",
     "exception": false,
     "start_time": "2024-11-29T17:05:20.029232",
     "status": "completed"
    },
    "tags": []
   },
   "source": [
    "## **OBJECTIVE** :\n",
    "> THE DATA CONCERNS CITY-CYCLE FUEL CONSUMPTION IN MILES PER GALLON,TO BE PREDICTED IN TERMS OF 3 MULTIVALUED DISCRETE AND 5 CONTINUOUS ATTRIBUTES."
   ]
  },
  {
   "cell_type": "markdown",
   "id": "878f9ec4",
   "metadata": {
    "id": "-OpAPjkSQ7YS",
    "papermill": {
     "duration": 0.006167,
     "end_time": "2024-11-29T17:05:20.048555",
     "exception": false,
     "start_time": "2024-11-29T17:05:20.042388",
     "status": "completed"
    },
    "tags": []
   },
   "source": [
    "## **Data Source**:\n",
    ">YBI Foundation DatataSet"
   ]
  },
  {
   "cell_type": "markdown",
   "id": "c2aab8b4",
   "metadata": {
    "id": "eEmEuCv0RFNC",
    "papermill": {
     "duration": 0.006329,
     "end_time": "2024-11-29T17:05:20.061396",
     "exception": false,
     "start_time": "2024-11-29T17:05:20.055067",
     "status": "completed"
    },
    "tags": []
   },
   "source": [
    "# Import Library"
   ]
  },
  {
   "cell_type": "code",
   "execution_count": 1,
   "id": "355e3118",
   "metadata": {
    "execution": {
     "iopub.execute_input": "2024-11-29T17:05:20.076807Z",
     "iopub.status.busy": "2024-11-29T17:05:20.076345Z",
     "iopub.status.idle": "2024-11-29T17:05:22.396779Z",
     "shell.execute_reply": "2024-11-29T17:05:22.395902Z"
    },
    "id": "79CKmBCCRVsb",
    "papermill": {
     "duration": 2.33082,
     "end_time": "2024-11-29T17:05:22.399155",
     "exception": false,
     "start_time": "2024-11-29T17:05:20.068335",
     "status": "completed"
    },
    "tags": []
   },
   "outputs": [],
   "source": [
    "import pandas as pd\n",
    "import numpy as np\n",
    "import matplotlib.pyplot as plt\n",
    "import seaborn as sns"
   ]
  },
  {
   "cell_type": "markdown",
   "id": "5b2189be",
   "metadata": {
    "id": "odW6ZuVPRJyc",
    "papermill": {
     "duration": 0.00597,
     "end_time": "2024-11-29T17:05:22.411922",
     "exception": false,
     "start_time": "2024-11-29T17:05:22.405952",
     "status": "completed"
    },
    "tags": []
   },
   "source": [
    "# Import Data"
   ]
  },
  {
   "cell_type": "code",
   "execution_count": 2,
   "id": "7dd2c185",
   "metadata": {
    "execution": {
     "iopub.execute_input": "2024-11-29T17:05:22.426245Z",
     "iopub.status.busy": "2024-11-29T17:05:22.425724Z",
     "iopub.status.idle": "2024-11-29T17:05:22.770710Z",
     "shell.execute_reply": "2024-11-29T17:05:22.769477Z"
    },
    "id": "VNWs5xE-R12L",
    "papermill": {
     "duration": 0.355798,
     "end_time": "2024-11-29T17:05:22.774060",
     "exception": false,
     "start_time": "2024-11-29T17:05:22.418262",
     "status": "completed"
    },
    "tags": []
   },
   "outputs": [],
   "source": [
    "df=pd.read_csv('https://github.com/YBI-Foundation/Dataset/raw/main/MPG.csv')"
   ]
  },
  {
   "cell_type": "markdown",
   "id": "8ae6d61e",
   "metadata": {
    "id": "WYh9NBvSRNYy",
    "papermill": {
     "duration": 0.010038,
     "end_time": "2024-11-29T17:05:22.794714",
     "exception": false,
     "start_time": "2024-11-29T17:05:22.784676",
     "status": "completed"
    },
    "tags": []
   },
   "source": [
    "# Describe Data"
   ]
  },
  {
   "cell_type": "code",
   "execution_count": 3,
   "id": "f60a09be",
   "metadata": {
    "execution": {
     "iopub.execute_input": "2024-11-29T17:05:22.825437Z",
     "iopub.status.busy": "2024-11-29T17:05:22.824484Z",
     "iopub.status.idle": "2024-11-29T17:05:22.858959Z",
     "shell.execute_reply": "2024-11-29T17:05:22.856346Z"
    },
    "id": "WTAzzoEcSBRs",
    "outputId": "792325e9-c849-478b-d74c-3815fa35306b",
    "papermill": {
     "duration": 0.054752,
     "end_time": "2024-11-29T17:05:22.861873",
     "exception": false,
     "start_time": "2024-11-29T17:05:22.807121",
     "status": "completed"
    },
    "tags": []
   },
   "outputs": [
    {
     "data": {
      "text/html": [
       "<div>\n",
       "<style scoped>\n",
       "    .dataframe tbody tr th:only-of-type {\n",
       "        vertical-align: middle;\n",
       "    }\n",
       "\n",
       "    .dataframe tbody tr th {\n",
       "        vertical-align: top;\n",
       "    }\n",
       "\n",
       "    .dataframe thead th {\n",
       "        text-align: right;\n",
       "    }\n",
       "</style>\n",
       "<table border=\"1\" class=\"dataframe\">\n",
       "  <thead>\n",
       "    <tr style=\"text-align: right;\">\n",
       "      <th></th>\n",
       "      <th>mpg</th>\n",
       "      <th>cylinders</th>\n",
       "      <th>displacement</th>\n",
       "      <th>horsepower</th>\n",
       "      <th>weight</th>\n",
       "      <th>acceleration</th>\n",
       "      <th>model_year</th>\n",
       "      <th>origin</th>\n",
       "      <th>name</th>\n",
       "    </tr>\n",
       "  </thead>\n",
       "  <tbody>\n",
       "    <tr>\n",
       "      <th>0</th>\n",
       "      <td>18.0</td>\n",
       "      <td>8</td>\n",
       "      <td>307.0</td>\n",
       "      <td>130.0</td>\n",
       "      <td>3504</td>\n",
       "      <td>12.0</td>\n",
       "      <td>70</td>\n",
       "      <td>usa</td>\n",
       "      <td>chevrolet chevelle malibu</td>\n",
       "    </tr>\n",
       "    <tr>\n",
       "      <th>1</th>\n",
       "      <td>15.0</td>\n",
       "      <td>8</td>\n",
       "      <td>350.0</td>\n",
       "      <td>165.0</td>\n",
       "      <td>3693</td>\n",
       "      <td>11.5</td>\n",
       "      <td>70</td>\n",
       "      <td>usa</td>\n",
       "      <td>buick skylark 320</td>\n",
       "    </tr>\n",
       "    <tr>\n",
       "      <th>2</th>\n",
       "      <td>18.0</td>\n",
       "      <td>8</td>\n",
       "      <td>318.0</td>\n",
       "      <td>150.0</td>\n",
       "      <td>3436</td>\n",
       "      <td>11.0</td>\n",
       "      <td>70</td>\n",
       "      <td>usa</td>\n",
       "      <td>plymouth satellite</td>\n",
       "    </tr>\n",
       "    <tr>\n",
       "      <th>3</th>\n",
       "      <td>16.0</td>\n",
       "      <td>8</td>\n",
       "      <td>304.0</td>\n",
       "      <td>150.0</td>\n",
       "      <td>3433</td>\n",
       "      <td>12.0</td>\n",
       "      <td>70</td>\n",
       "      <td>usa</td>\n",
       "      <td>amc rebel sst</td>\n",
       "    </tr>\n",
       "    <tr>\n",
       "      <th>4</th>\n",
       "      <td>17.0</td>\n",
       "      <td>8</td>\n",
       "      <td>302.0</td>\n",
       "      <td>140.0</td>\n",
       "      <td>3449</td>\n",
       "      <td>10.5</td>\n",
       "      <td>70</td>\n",
       "      <td>usa</td>\n",
       "      <td>ford torino</td>\n",
       "    </tr>\n",
       "  </tbody>\n",
       "</table>\n",
       "</div>"
      ],
      "text/plain": [
       "    mpg  cylinders  displacement  horsepower  weight  acceleration  \\\n",
       "0  18.0          8         307.0       130.0    3504          12.0   \n",
       "1  15.0          8         350.0       165.0    3693          11.5   \n",
       "2  18.0          8         318.0       150.0    3436          11.0   \n",
       "3  16.0          8         304.0       150.0    3433          12.0   \n",
       "4  17.0          8         302.0       140.0    3449          10.5   \n",
       "\n",
       "   model_year origin                       name  \n",
       "0          70    usa  chevrolet chevelle malibu  \n",
       "1          70    usa          buick skylark 320  \n",
       "2          70    usa         plymouth satellite  \n",
       "3          70    usa              amc rebel sst  \n",
       "4          70    usa                ford torino  "
      ]
     },
     "execution_count": 3,
     "metadata": {},
     "output_type": "execute_result"
    }
   ],
   "source": [
    "df.head()"
   ]
  },
  {
   "cell_type": "markdown",
   "id": "ba5dfd57",
   "metadata": {
    "id": "U_qr4_HaSYes",
    "papermill": {
     "duration": 0.006874,
     "end_time": "2024-11-29T17:05:22.880081",
     "exception": false,
     "start_time": "2024-11-29T17:05:22.873207",
     "status": "completed"
    },
    "tags": []
   },
   "source": [
    "- `mpg`: This stands for miles per gallon. It's a measure of how many miles a car can travel per gallon of fuel. The higher the mpg, the more fuel-efficient the car is.\n",
    "    \n",
    "- `cylinders`: This is the number of cylinders in the engine of the car. Generally, more cylinders can produce more power.\n",
    "    \n",
    "- `displacement`: This is the total volume of all the cylinders in an engine, usually measured in cubic centimeters (cc) or liters (L). Larger engines have greater displacement.\n",
    "    \n",
    "- `horsepower`: This is a measure of the power output of the car's engine. A higher horsepower means that the car's engine is capable of doing more work.\n",
    "    \n",
    "- `weight`: This is the weight of the car, typically measured in pounds or kilograms.\n",
    "    \n",
    "- `acceleration`: This could be a measure of how quickly a car can increase its speed, typically from 0 to 60 mph or 0 to 100 km/h.\n",
    "    \n",
    "- `model_year`: This represents what year that particular model was released.\n",
    "    \n",
    "- `origin`: Represents where the vehicle was manufactured.\n",
    "    \n",
    "- `name`: The name/model of the vehicle."
   ]
  },
  {
   "cell_type": "markdown",
   "id": "5c8f4173",
   "metadata": {
    "id": "eqW6HXKtTLKL",
    "papermill": {
     "duration": 0.006408,
     "end_time": "2024-11-29T17:05:22.893370",
     "exception": false,
     "start_time": "2024-11-29T17:05:22.886962",
     "status": "completed"
    },
    "tags": []
   },
   "source": [
    "# Data Preprocessing"
   ]
  },
  {
   "cell_type": "code",
   "execution_count": 4,
   "id": "279379fe",
   "metadata": {
    "execution": {
     "iopub.execute_input": "2024-11-29T17:05:22.908616Z",
     "iopub.status.busy": "2024-11-29T17:05:22.908242Z",
     "iopub.status.idle": "2024-11-29T17:05:22.937235Z",
     "shell.execute_reply": "2024-11-29T17:05:22.936068Z"
    },
    "id": "37MzrMJ8TMLz",
    "outputId": "f1b3f9a7-46a4-486a-d8cd-3c421947361b",
    "papermill": {
     "duration": 0.039544,
     "end_time": "2024-11-29T17:05:22.939763",
     "exception": false,
     "start_time": "2024-11-29T17:05:22.900219",
     "status": "completed"
    },
    "tags": []
   },
   "outputs": [
    {
     "name": "stdout",
     "output_type": "stream",
     "text": [
      "<class 'pandas.core.frame.DataFrame'>\n",
      "RangeIndex: 398 entries, 0 to 397\n",
      "Data columns (total 9 columns):\n",
      " #   Column        Non-Null Count  Dtype  \n",
      "---  ------        --------------  -----  \n",
      " 0   mpg           398 non-null    float64\n",
      " 1   cylinders     398 non-null    int64  \n",
      " 2   displacement  398 non-null    float64\n",
      " 3   horsepower    392 non-null    float64\n",
      " 4   weight        398 non-null    int64  \n",
      " 5   acceleration  398 non-null    float64\n",
      " 6   model_year    398 non-null    int64  \n",
      " 7   origin        398 non-null    object \n",
      " 8   name          398 non-null    object \n",
      "dtypes: float64(4), int64(3), object(2)\n",
      "memory usage: 28.1+ KB\n"
     ]
    }
   ],
   "source": [
    "df.info()\n"
   ]
  },
  {
   "cell_type": "code",
   "execution_count": 5,
   "id": "f411b5f3",
   "metadata": {
    "execution": {
     "iopub.execute_input": "2024-11-29T17:05:22.962784Z",
     "iopub.status.busy": "2024-11-29T17:05:22.961893Z",
     "iopub.status.idle": "2024-11-29T17:05:23.003108Z",
     "shell.execute_reply": "2024-11-29T17:05:23.001831Z"
    },
    "id": "P-42OqqtTVG8",
    "outputId": "3177b788-7442-4122-abe7-a5cc0795b52e",
    "papermill": {
     "duration": 0.058628,
     "end_time": "2024-11-29T17:05:23.005382",
     "exception": false,
     "start_time": "2024-11-29T17:05:22.946754",
     "status": "completed"
    },
    "tags": []
   },
   "outputs": [
    {
     "data": {
      "text/html": [
       "<div>\n",
       "<style scoped>\n",
       "    .dataframe tbody tr th:only-of-type {\n",
       "        vertical-align: middle;\n",
       "    }\n",
       "\n",
       "    .dataframe tbody tr th {\n",
       "        vertical-align: top;\n",
       "    }\n",
       "\n",
       "    .dataframe thead th {\n",
       "        text-align: right;\n",
       "    }\n",
       "</style>\n",
       "<table border=\"1\" class=\"dataframe\">\n",
       "  <thead>\n",
       "    <tr style=\"text-align: right;\">\n",
       "      <th></th>\n",
       "      <th>mpg</th>\n",
       "      <th>cylinders</th>\n",
       "      <th>displacement</th>\n",
       "      <th>horsepower</th>\n",
       "      <th>weight</th>\n",
       "      <th>acceleration</th>\n",
       "      <th>model_year</th>\n",
       "    </tr>\n",
       "  </thead>\n",
       "  <tbody>\n",
       "    <tr>\n",
       "      <th>count</th>\n",
       "      <td>398.000000</td>\n",
       "      <td>398.000000</td>\n",
       "      <td>398.000000</td>\n",
       "      <td>392.000000</td>\n",
       "      <td>398.000000</td>\n",
       "      <td>398.000000</td>\n",
       "      <td>398.000000</td>\n",
       "    </tr>\n",
       "    <tr>\n",
       "      <th>mean</th>\n",
       "      <td>23.514573</td>\n",
       "      <td>5.454774</td>\n",
       "      <td>193.425879</td>\n",
       "      <td>104.469388</td>\n",
       "      <td>2970.424623</td>\n",
       "      <td>15.568090</td>\n",
       "      <td>76.010050</td>\n",
       "    </tr>\n",
       "    <tr>\n",
       "      <th>std</th>\n",
       "      <td>7.815984</td>\n",
       "      <td>1.701004</td>\n",
       "      <td>104.269838</td>\n",
       "      <td>38.491160</td>\n",
       "      <td>846.841774</td>\n",
       "      <td>2.757689</td>\n",
       "      <td>3.697627</td>\n",
       "    </tr>\n",
       "    <tr>\n",
       "      <th>min</th>\n",
       "      <td>9.000000</td>\n",
       "      <td>3.000000</td>\n",
       "      <td>68.000000</td>\n",
       "      <td>46.000000</td>\n",
       "      <td>1613.000000</td>\n",
       "      <td>8.000000</td>\n",
       "      <td>70.000000</td>\n",
       "    </tr>\n",
       "    <tr>\n",
       "      <th>25%</th>\n",
       "      <td>17.500000</td>\n",
       "      <td>4.000000</td>\n",
       "      <td>104.250000</td>\n",
       "      <td>75.000000</td>\n",
       "      <td>2223.750000</td>\n",
       "      <td>13.825000</td>\n",
       "      <td>73.000000</td>\n",
       "    </tr>\n",
       "    <tr>\n",
       "      <th>50%</th>\n",
       "      <td>23.000000</td>\n",
       "      <td>4.000000</td>\n",
       "      <td>148.500000</td>\n",
       "      <td>93.500000</td>\n",
       "      <td>2803.500000</td>\n",
       "      <td>15.500000</td>\n",
       "      <td>76.000000</td>\n",
       "    </tr>\n",
       "    <tr>\n",
       "      <th>75%</th>\n",
       "      <td>29.000000</td>\n",
       "      <td>8.000000</td>\n",
       "      <td>262.000000</td>\n",
       "      <td>126.000000</td>\n",
       "      <td>3608.000000</td>\n",
       "      <td>17.175000</td>\n",
       "      <td>79.000000</td>\n",
       "    </tr>\n",
       "    <tr>\n",
       "      <th>max</th>\n",
       "      <td>46.600000</td>\n",
       "      <td>8.000000</td>\n",
       "      <td>455.000000</td>\n",
       "      <td>230.000000</td>\n",
       "      <td>5140.000000</td>\n",
       "      <td>24.800000</td>\n",
       "      <td>82.000000</td>\n",
       "    </tr>\n",
       "  </tbody>\n",
       "</table>\n",
       "</div>"
      ],
      "text/plain": [
       "              mpg   cylinders  displacement  horsepower       weight  \\\n",
       "count  398.000000  398.000000    398.000000  392.000000   398.000000   \n",
       "mean    23.514573    5.454774    193.425879  104.469388  2970.424623   \n",
       "std      7.815984    1.701004    104.269838   38.491160   846.841774   \n",
       "min      9.000000    3.000000     68.000000   46.000000  1613.000000   \n",
       "25%     17.500000    4.000000    104.250000   75.000000  2223.750000   \n",
       "50%     23.000000    4.000000    148.500000   93.500000  2803.500000   \n",
       "75%     29.000000    8.000000    262.000000  126.000000  3608.000000   \n",
       "max     46.600000    8.000000    455.000000  230.000000  5140.000000   \n",
       "\n",
       "       acceleration  model_year  \n",
       "count    398.000000  398.000000  \n",
       "mean      15.568090   76.010050  \n",
       "std        2.757689    3.697627  \n",
       "min        8.000000   70.000000  \n",
       "25%       13.825000   73.000000  \n",
       "50%       15.500000   76.000000  \n",
       "75%       17.175000   79.000000  \n",
       "max       24.800000   82.000000  "
      ]
     },
     "execution_count": 5,
     "metadata": {},
     "output_type": "execute_result"
    }
   ],
   "source": [
    "df.describe()\n"
   ]
  },
  {
   "cell_type": "code",
   "execution_count": 6,
   "id": "a22e95fd",
   "metadata": {
    "execution": {
     "iopub.execute_input": "2024-11-29T17:05:23.021666Z",
     "iopub.status.busy": "2024-11-29T17:05:23.020903Z",
     "iopub.status.idle": "2024-11-29T17:05:23.036082Z",
     "shell.execute_reply": "2024-11-29T17:05:23.034948Z"
    },
    "id": "sM3ZbFL3Vp_7",
    "outputId": "383c803c-a729-43b1-d061-132d11cdbd6e",
    "papermill": {
     "duration": 0.025674,
     "end_time": "2024-11-29T17:05:23.038203",
     "exception": false,
     "start_time": "2024-11-29T17:05:23.012529",
     "status": "completed"
    },
    "tags": []
   },
   "outputs": [
    {
     "name": "stdout",
     "output_type": "stream",
     "text": [
      "<class 'pandas.core.frame.DataFrame'>\n",
      "Index: 392 entries, 0 to 397\n",
      "Data columns (total 9 columns):\n",
      " #   Column        Non-Null Count  Dtype  \n",
      "---  ------        --------------  -----  \n",
      " 0   mpg           392 non-null    float64\n",
      " 1   cylinders     392 non-null    int64  \n",
      " 2   displacement  392 non-null    float64\n",
      " 3   horsepower    392 non-null    float64\n",
      " 4   weight        392 non-null    int64  \n",
      " 5   acceleration  392 non-null    float64\n",
      " 6   model_year    392 non-null    int64  \n",
      " 7   origin        392 non-null    object \n",
      " 8   name          392 non-null    object \n",
      "dtypes: float64(4), int64(3), object(2)\n",
      "memory usage: 30.6+ KB\n"
     ]
    }
   ],
   "source": [
    "#REMOVING MISSING VALUES\n",
    "df=df.dropna()\n",
    "df.info()"
   ]
  },
  {
   "cell_type": "markdown",
   "id": "3adf2219",
   "metadata": {
    "id": "kPpsIJYtRPHr",
    "papermill": {
     "duration": 0.007136,
     "end_time": "2024-11-29T17:05:23.052874",
     "exception": false,
     "start_time": "2024-11-29T17:05:23.045738",
     "status": "completed"
    },
    "tags": []
   },
   "source": [
    "#Data Visualization"
   ]
  },
  {
   "cell_type": "code",
   "execution_count": 7,
   "id": "02d9564e",
   "metadata": {
    "execution": {
     "iopub.execute_input": "2024-11-29T17:05:23.069429Z",
     "iopub.status.busy": "2024-11-29T17:05:23.068348Z",
     "iopub.status.idle": "2024-11-29T17:05:24.208176Z",
     "shell.execute_reply": "2024-11-29T17:05:24.207090Z"
    },
    "id": "BfKo_dVzPE5U",
    "outputId": "45ccd33f-10e1-4dff-d1f2-1c059eef1eba",
    "papermill": {
     "duration": 1.1505,
     "end_time": "2024-11-29T17:05:24.210570",
     "exception": false,
     "start_time": "2024-11-29T17:05:23.060070",
     "status": "completed"
    },
    "tags": []
   },
   "outputs": [
    {
     "name": "stderr",
     "output_type": "stream",
     "text": [
      "/opt/conda/lib/python3.10/site-packages/seaborn/axisgrid.py:118: UserWarning: The figure layout has changed to tight\n",
      "  self._figure.tight_layout(*args, **kwargs)\n"
     ]
    },
    {
     "data": {
      "image/png": "[encoded data removed]",
      "text/plain": [
       "<Figure size 1250x250 with 6 Axes>"
      ]
     },
     "metadata": {},
     "output_type": "display_data"
    }
   ],
   "source": [
    "sns.pairplot(df,x_vars=['displacement','horsepower','weight','acceleration','mpg'], y_vars=['mpg']);"
   ]
  },
  {
   "cell_type": "code",
   "execution_count": 8,
   "id": "eaa1bbd0",
   "metadata": {
    "execution": {
     "iopub.execute_input": "2024-11-29T17:05:24.229208Z",
     "iopub.status.busy": "2024-11-29T17:05:24.228825Z",
     "iopub.status.idle": "2024-11-29T17:05:24.638321Z",
     "shell.execute_reply": "2024-11-29T17:05:24.637307Z"
    },
    "id": "RHL0AtwyT9jr",
    "outputId": "b58817e6-dc7f-4db7-a396-7c5ac236ed3a",
    "papermill": {
     "duration": 0.421575,
     "end_time": "2024-11-29T17:05:24.640718",
     "exception": false,
     "start_time": "2024-11-29T17:05:24.219143",
     "status": "completed"
    },
    "tags": []
   },
   "outputs": [
    {
     "data": {
      "image/png": "[encoded data removed]",
      "text/plain": [
       "<Figure size 640x480 with 1 Axes>"
      ]
     },
     "metadata": {},
     "output_type": "display_data"
    }
   ],
   "source": [
    "sns.regplot(x='displacement',y='mpg',data=df);\n"
   ]
  },
  {
   "cell_type": "markdown",
   "id": "419d0b5d",
   "metadata": {
    "id": "TT7zvLCrUOvL",
    "papermill": {
     "duration": 0.00899,
     "end_time": "2024-11-29T17:05:24.658775",
     "exception": false,
     "start_time": "2024-11-29T17:05:24.649785",
     "status": "completed"
    },
    "tags": []
   },
   "source": [
    "# Define Target Variable (Y) and Feature Variables (X)"
   ]
  },
  {
   "cell_type": "code",
   "execution_count": 9,
   "id": "c053f09c",
   "metadata": {
    "execution": {
     "iopub.execute_input": "2024-11-29T17:05:24.679109Z",
     "iopub.status.busy": "2024-11-29T17:05:24.678427Z",
     "iopub.status.idle": "2024-11-29T17:05:24.685108Z",
     "shell.execute_reply": "2024-11-29T17:05:24.684127Z"
    },
    "id": "4wLzFus4T_Tj",
    "outputId": "53ea517b-289b-4e60-d13e-20b047295a76",
    "papermill": {
     "duration": 0.019386,
     "end_time": "2024-11-29T17:05:24.687170",
     "exception": false,
     "start_time": "2024-11-29T17:05:24.667784",
     "status": "completed"
    },
    "tags": []
   },
   "outputs": [
    {
     "data": {
      "text/plain": [
       "Index(['mpg', 'cylinders', 'displacement', 'horsepower', 'weight',\n",
       "       'acceleration', 'model_year', 'origin', 'name'],\n",
       "      dtype='object')"
      ]
     },
     "execution_count": 9,
     "metadata": {},
     "output_type": "execute_result"
    }
   ],
   "source": [
    "\n",
    "df.columns"
   ]
  },
  {
   "cell_type": "code",
   "execution_count": 10,
   "id": "f0b4d73e",
   "metadata": {
    "execution": {
     "iopub.execute_input": "2024-11-29T17:05:24.707575Z",
     "iopub.status.busy": "2024-11-29T17:05:24.707149Z",
     "iopub.status.idle": "2024-11-29T17:05:24.714189Z",
     "shell.execute_reply": "2024-11-29T17:05:24.713195Z"
    },
    "id": "BOvN_pXoUCQy",
    "outputId": "42d64edd-9473-48c7-9983-ff9dd1c69d66",
    "papermill": {
     "duration": 0.019626,
     "end_time": "2024-11-29T17:05:24.716102",
     "exception": false,
     "start_time": "2024-11-29T17:05:24.696476",
     "status": "completed"
    },
    "tags": []
   },
   "outputs": [
    {
     "data": {
      "text/plain": [
       "(392,)"
      ]
     },
     "execution_count": 10,
     "metadata": {},
     "output_type": "execute_result"
    }
   ],
   "source": [
    "y=df['mpg']\n",
    "y.shape"
   ]
  },
  {
   "cell_type": "code",
   "execution_count": 11,
   "id": "2e90958b",
   "metadata": {
    "execution": {
     "iopub.execute_input": "2024-11-29T17:05:24.737386Z",
     "iopub.status.busy": "2024-11-29T17:05:24.736686Z",
     "iopub.status.idle": "2024-11-29T17:05:24.742568Z",
     "shell.execute_reply": "2024-11-29T17:05:24.741510Z"
    },
    "id": "UZwuwM-LUED7",
    "papermill": {
     "duration": 0.01888,
     "end_time": "2024-11-29T17:05:24.744509",
     "exception": false,
     "start_time": "2024-11-29T17:05:24.725629",
     "status": "completed"
    },
    "tags": []
   },
   "outputs": [],
   "source": [
    "X=df[['displacement','horsepower','weight','acceleration']]"
   ]
  },
  {
   "cell_type": "code",
   "execution_count": 12,
   "id": "d6d1bb31",
   "metadata": {
    "execution": {
     "iopub.execute_input": "2024-11-29T17:05:24.765488Z",
     "iopub.status.busy": "2024-11-29T17:05:24.764580Z",
     "iopub.status.idle": "2024-11-29T17:05:24.771012Z",
     "shell.execute_reply": "2024-11-29T17:05:24.770072Z"
    },
    "id": "f2Haqk4XUX7L",
    "outputId": "5de6266a-9b9d-4d51-bf5a-852186e5d2a9",
    "papermill": {
     "duration": 0.019221,
     "end_time": "2024-11-29T17:05:24.773177",
     "exception": false,
     "start_time": "2024-11-29T17:05:24.753956",
     "status": "completed"
    },
    "tags": []
   },
   "outputs": [
    {
     "data": {
      "text/plain": [
       "(392, 4)"
      ]
     },
     "execution_count": 12,
     "metadata": {},
     "output_type": "execute_result"
    }
   ],
   "source": [
    "\n",
    "X.shape"
   ]
  },
  {
   "cell_type": "code",
   "execution_count": 13,
   "id": "9097fa9a",
   "metadata": {
    "execution": {
     "iopub.execute_input": "2024-11-29T17:05:24.794878Z",
     "iopub.status.busy": "2024-11-29T17:05:24.794495Z",
     "iopub.status.idle": "2024-11-29T17:05:24.809982Z",
     "shell.execute_reply": "2024-11-29T17:05:24.808812Z"
    },
    "id": "69JEumvWUZTT",
    "outputId": "e89f9d26-3b1d-43be-b2b6-8044cf7c7cd3",
    "papermill": {
     "duration": 0.029007,
     "end_time": "2024-11-29T17:05:24.812255",
     "exception": false,
     "start_time": "2024-11-29T17:05:24.783248",
     "status": "completed"
    },
    "tags": []
   },
   "outputs": [
    {
     "data": {
      "text/html": [
       "<div>\n",
       "<style scoped>\n",
       "    .dataframe tbody tr th:only-of-type {\n",
       "        vertical-align: middle;\n",
       "    }\n",
       "\n",
       "    .dataframe tbody tr th {\n",
       "        vertical-align: top;\n",
       "    }\n",
       "\n",
       "    .dataframe thead th {\n",
       "        text-align: right;\n",
       "    }\n",
       "</style>\n",
       "<table border=\"1\" class=\"dataframe\">\n",
       "  <thead>\n",
       "    <tr style=\"text-align: right;\">\n",
       "      <th></th>\n",
       "      <th>displacement</th>\n",
       "      <th>horsepower</th>\n",
       "      <th>weight</th>\n",
       "      <th>acceleration</th>\n",
       "    </tr>\n",
       "  </thead>\n",
       "  <tbody>\n",
       "    <tr>\n",
       "      <th>0</th>\n",
       "      <td>307.0</td>\n",
       "      <td>130.0</td>\n",
       "      <td>3504</td>\n",
       "      <td>12.0</td>\n",
       "    </tr>\n",
       "    <tr>\n",
       "      <th>1</th>\n",
       "      <td>350.0</td>\n",
       "      <td>165.0</td>\n",
       "      <td>3693</td>\n",
       "      <td>11.5</td>\n",
       "    </tr>\n",
       "    <tr>\n",
       "      <th>2</th>\n",
       "      <td>318.0</td>\n",
       "      <td>150.0</td>\n",
       "      <td>3436</td>\n",
       "      <td>11.0</td>\n",
       "    </tr>\n",
       "    <tr>\n",
       "      <th>3</th>\n",
       "      <td>304.0</td>\n",
       "      <td>150.0</td>\n",
       "      <td>3433</td>\n",
       "      <td>12.0</td>\n",
       "    </tr>\n",
       "    <tr>\n",
       "      <th>4</th>\n",
       "      <td>302.0</td>\n",
       "      <td>140.0</td>\n",
       "      <td>3449</td>\n",
       "      <td>10.5</td>\n",
       "    </tr>\n",
       "    <tr>\n",
       "      <th>...</th>\n",
       "      <td>...</td>\n",
       "      <td>...</td>\n",
       "      <td>...</td>\n",
       "      <td>...</td>\n",
       "    </tr>\n",
       "    <tr>\n",
       "      <th>393</th>\n",
       "      <td>140.0</td>\n",
       "      <td>86.0</td>\n",
       "      <td>2790</td>\n",
       "      <td>15.6</td>\n",
       "    </tr>\n",
       "    <tr>\n",
       "      <th>394</th>\n",
       "      <td>97.0</td>\n",
       "      <td>52.0</td>\n",
       "      <td>2130</td>\n",
       "      <td>24.6</td>\n",
       "    </tr>\n",
       "    <tr>\n",
       "      <th>395</th>\n",
       "      <td>135.0</td>\n",
       "      <td>84.0</td>\n",
       "      <td>2295</td>\n",
       "      <td>11.6</td>\n",
       "    </tr>\n",
       "    <tr>\n",
       "      <th>396</th>\n",
       "      <td>120.0</td>\n",
       "      <td>79.0</td>\n",
       "      <td>2625</td>\n",
       "      <td>18.6</td>\n",
       "    </tr>\n",
       "    <tr>\n",
       "      <th>397</th>\n",
       "      <td>119.0</td>\n",
       "      <td>82.0</td>\n",
       "      <td>2720</td>\n",
       "      <td>19.4</td>\n",
       "    </tr>\n",
       "  </tbody>\n",
       "</table>\n",
       "<p>392 rows × 4 columns</p>\n",
       "</div>"
      ],
      "text/plain": [
       "     displacement  horsepower  weight  acceleration\n",
       "0           307.0       130.0    3504          12.0\n",
       "1           350.0       165.0    3693          11.5\n",
       "2           318.0       150.0    3436          11.0\n",
       "3           304.0       150.0    3433          12.0\n",
       "4           302.0       140.0    3449          10.5\n",
       "..            ...         ...     ...           ...\n",
       "393         140.0        86.0    2790          15.6\n",
       "394          97.0        52.0    2130          24.6\n",
       "395         135.0        84.0    2295          11.6\n",
       "396         120.0        79.0    2625          18.6\n",
       "397         119.0        82.0    2720          19.4\n",
       "\n",
       "[392 rows x 4 columns]"
      ]
     },
     "execution_count": 13,
     "metadata": {},
     "output_type": "execute_result"
    }
   ],
   "source": [
    "X"
   ]
  },
  {
   "cell_type": "code",
   "execution_count": 14,
   "id": "7f164ac5",
   "metadata": {
    "execution": {
     "iopub.execute_input": "2024-11-29T17:05:24.833472Z",
     "iopub.status.busy": "2024-11-29T17:05:24.833100Z",
     "iopub.status.idle": "2024-11-29T17:05:25.002137Z",
     "shell.execute_reply": "2024-11-29T17:05:25.001194Z"
    },
    "id": "2VibhnLfUajS",
    "outputId": "92b80781-2288-46ee-a5b5-e4c97a83ab3f",
    "papermill": {
     "duration": 0.18224,
     "end_time": "2024-11-29T17:05:25.004214",
     "exception": false,
     "start_time": "2024-11-29T17:05:24.821974",
     "status": "completed"
    },
    "tags": []
   },
   "outputs": [
    {
     "data": {
      "text/plain": [
       "array([[ 1.07728956,  0.66413273,  0.62054034, -1.285258  ],\n",
       "       [ 1.48873169,  1.57459447,  0.84333403, -1.46672362],\n",
       "       [ 1.1825422 ,  1.18439658,  0.54038176, -1.64818924],\n",
       "       ...,\n",
       "       [-0.56847897, -0.53247413, -0.80463202, -1.4304305 ],\n",
       "       [-0.7120053 , -0.66254009, -0.41562716,  1.11008813],\n",
       "       [-0.72157372, -0.58450051, -0.30364091,  1.40043312]])"
      ]
     },
     "execution_count": 14,
     "metadata": {},
     "output_type": "execute_result"
    }
   ],
   "source": [
    "\n",
    "#SCALING DATA\n",
    "from sklearn.preprocessing import StandardScaler\n",
    "ss=StandardScaler()\n",
    "X=ss.fit_transform(X)\n",
    "X"
   ]
  },
  {
   "cell_type": "code",
   "execution_count": 15,
   "id": "fd75daf3",
   "metadata": {
    "execution": {
     "iopub.execute_input": "2024-11-29T17:05:25.026217Z",
     "iopub.status.busy": "2024-11-29T17:05:25.025253Z",
     "iopub.status.idle": "2024-11-29T17:05:25.048203Z",
     "shell.execute_reply": "2024-11-29T17:05:25.047246Z"
    },
    "id": "_HjRZV_NUfdD",
    "outputId": "cbd1d5f7-df2c-4489-b480-6bdf2dc8c501",
    "papermill": {
     "duration": 0.036269,
     "end_time": "2024-11-29T17:05:25.050120",
     "exception": false,
     "start_time": "2024-11-29T17:05:25.013851",
     "status": "completed"
    },
    "tags": []
   },
   "outputs": [
    {
     "data": {
      "text/html": [
       "<div>\n",
       "<style scoped>\n",
       "    .dataframe tbody tr th:only-of-type {\n",
       "        vertical-align: middle;\n",
       "    }\n",
       "\n",
       "    .dataframe tbody tr th {\n",
       "        vertical-align: top;\n",
       "    }\n",
       "\n",
       "    .dataframe thead th {\n",
       "        text-align: right;\n",
       "    }\n",
       "</style>\n",
       "<table border=\"1\" class=\"dataframe\">\n",
       "  <thead>\n",
       "    <tr style=\"text-align: right;\">\n",
       "      <th></th>\n",
       "      <th>0</th>\n",
       "      <th>1</th>\n",
       "      <th>2</th>\n",
       "      <th>3</th>\n",
       "    </tr>\n",
       "  </thead>\n",
       "  <tbody>\n",
       "    <tr>\n",
       "      <th>count</th>\n",
       "      <td>3.920000e+02</td>\n",
       "      <td>3.920000e+02</td>\n",
       "      <td>3.920000e+02</td>\n",
       "      <td>3.920000e+02</td>\n",
       "    </tr>\n",
       "    <tr>\n",
       "      <th>mean</th>\n",
       "      <td>-7.250436e-17</td>\n",
       "      <td>-1.812609e-16</td>\n",
       "      <td>-1.812609e-17</td>\n",
       "      <td>4.350262e-16</td>\n",
       "    </tr>\n",
       "    <tr>\n",
       "      <th>std</th>\n",
       "      <td>1.001278e+00</td>\n",
       "      <td>1.001278e+00</td>\n",
       "      <td>1.001278e+00</td>\n",
       "      <td>1.001278e+00</td>\n",
       "    </tr>\n",
       "    <tr>\n",
       "      <th>min</th>\n",
       "      <td>-1.209563e+00</td>\n",
       "      <td>-1.520975e+00</td>\n",
       "      <td>-1.608575e+00</td>\n",
       "      <td>-2.736983e+00</td>\n",
       "    </tr>\n",
       "    <tr>\n",
       "      <th>25%</th>\n",
       "      <td>-8.555316e-01</td>\n",
       "      <td>-7.665929e-01</td>\n",
       "      <td>-8.868535e-01</td>\n",
       "      <td>-6.410551e-01</td>\n",
       "    </tr>\n",
       "    <tr>\n",
       "      <th>50%</th>\n",
       "      <td>-4.153842e-01</td>\n",
       "      <td>-2.853488e-01</td>\n",
       "      <td>-2.052109e-01</td>\n",
       "      <td>-1.499869e-02</td>\n",
       "    </tr>\n",
       "    <tr>\n",
       "      <th>75%</th>\n",
       "      <td>7.782764e-01</td>\n",
       "      <td>5.600800e-01</td>\n",
       "      <td>7.510927e-01</td>\n",
       "      <td>5.384714e-01</td>\n",
       "    </tr>\n",
       "    <tr>\n",
       "      <th>max</th>\n",
       "      <td>2.493416e+00</td>\n",
       "      <td>3.265452e+00</td>\n",
       "      <td>2.549061e+00</td>\n",
       "      <td>3.360262e+00</td>\n",
       "    </tr>\n",
       "  </tbody>\n",
       "</table>\n",
       "</div>"
      ],
      "text/plain": [
       "                  0             1             2             3\n",
       "count  3.920000e+02  3.920000e+02  3.920000e+02  3.920000e+02\n",
       "mean  -7.250436e-17 -1.812609e-16 -1.812609e-17  4.350262e-16\n",
       "std    1.001278e+00  1.001278e+00  1.001278e+00  1.001278e+00\n",
       "min   -1.209563e+00 -1.520975e+00 -1.608575e+00 -2.736983e+00\n",
       "25%   -8.555316e-01 -7.665929e-01 -8.868535e-01 -6.410551e-01\n",
       "50%   -4.153842e-01 -2.853488e-01 -2.052109e-01 -1.499869e-02\n",
       "75%    7.782764e-01  5.600800e-01  7.510927e-01  5.384714e-01\n",
       "max    2.493416e+00  3.265452e+00  2.549061e+00  3.360262e+00"
      ]
     },
     "execution_count": 15,
     "metadata": {},
     "output_type": "execute_result"
    }
   ],
   "source": [
    "\n",
    "pd.DataFrame(X).describe()"
   ]
  },
  {
   "cell_type": "markdown",
   "id": "58a82869",
   "metadata": {
    "id": "mo4mOdexUmoN",
    "papermill": {
     "duration": 0.00958,
     "end_time": "2024-11-29T17:05:25.069503",
     "exception": false,
     "start_time": "2024-11-29T17:05:25.059923",
     "status": "completed"
    },
    "tags": []
   },
   "source": [
    "# Train Test Split"
   ]
  },
  {
   "cell_type": "code",
   "execution_count": 16,
   "id": "cbaefeff",
   "metadata": {
    "execution": {
     "iopub.execute_input": "2024-11-29T17:05:25.149901Z",
     "iopub.status.busy": "2024-11-29T17:05:25.149525Z",
     "iopub.status.idle": "2024-11-29T17:05:25.261950Z",
     "shell.execute_reply": "2024-11-29T17:05:25.260824Z"
    },
    "id": "9H1Us3pvUvE8",
    "outputId": "09991bc5-450a-4290-9c6f-0aa5a7ed88aa",
    "papermill": {
     "duration": 0.184349,
     "end_time": "2024-11-29T17:05:25.264129",
     "exception": false,
     "start_time": "2024-11-29T17:05:25.079780",
     "status": "completed"
    },
    "tags": []
   },
   "outputs": [
    {
     "data": {
      "text/plain": [
       "((274, 4), (118, 4), (274,), (118,))"
      ]
     },
     "execution_count": 16,
     "metadata": {},
     "output_type": "execute_result"
    }
   ],
   "source": [
    "from sklearn.model_selection import train_test_split\n",
    "X_train,X_test,y_train,y_test=train_test_split(X,y,train_size=0.7,random_state=2529)\n",
    "X_train.shape,X_test.shape,y_train.shape,y_test.shape"
   ]
  },
  {
   "cell_type": "markdown",
   "id": "1d2d04ae",
   "metadata": {
    "id": "TIFQOUFTUoKk",
    "papermill": {
     "duration": 0.010252,
     "end_time": "2024-11-29T17:05:25.284634",
     "exception": false,
     "start_time": "2024-11-29T17:05:25.274382",
     "status": "completed"
    },
    "tags": []
   },
   "source": [
    "# Modeling"
   ]
  },
  {
   "cell_type": "code",
   "execution_count": 17,
   "id": "57b9a1ae",
   "metadata": {
    "execution": {
     "iopub.execute_input": "2024-11-29T17:05:25.306874Z",
     "iopub.status.busy": "2024-11-29T17:05:25.306511Z",
     "iopub.status.idle": "2024-11-29T17:05:25.447324Z",
     "shell.execute_reply": "2024-11-29T17:05:25.446191Z"
    },
    "id": "dvPn9elBVNY8",
    "outputId": "d8649987-e75a-4b43-cc09-72643d1efd7d",
    "papermill": {
     "duration": 0.15465,
     "end_time": "2024-11-29T17:05:25.449585",
     "exception": false,
     "start_time": "2024-11-29T17:05:25.294935",
     "status": "completed"
    },
    "tags": []
   },
   "outputs": [
    {
     "data": {
      "text/html": [
       "<style>#sk-container-id-1 {color: black;background-color: white;}#sk-container-id-1 pre{padding: 0;}#sk-container-id-1 div.sk-toggleable {background-color: white;}#sk-container-id-1 label.sk-toggleable__label {cursor: pointer;display: block;width: 100%;margin-bottom: 0;padding: 0.3em;box-sizing: border-box;text-align: center;}#sk-container-id-1 label.sk-toggleable__label-arrow:before {content: \"▸\";float: left;margin-right: 0.25em;color: #696969;}#sk-container-id-1 label.sk-toggleable__label-arrow:hover:before {color: black;}#sk-container-id-1 div.sk-estimator:hover label.sk-toggleable__label-arrow:before {color: black;}#sk-container-id-1 div.sk-toggleable__content {max-height: 0;max-width: 0;overflow: hidden;text-align: left;background-color: #f0f8ff;}#sk-container-id-1 div.sk-toggleable__content pre {margin: 0.2em;color: black;border-radius: 0.25em;background-color: #f0f8ff;}#sk-container-id-1 input.sk-toggleable__control:checked~div.sk-toggleable__content {max-height: 200px;max-width: 100%;overflow: auto;}#sk-container-id-1 input.sk-toggleable__control:checked~label.sk-toggleable__label-arrow:before {content: \"▾\";}#sk-container-id-1 div.sk-estimator input.sk-toggleable__control:checked~label.sk-toggleable__label {background-color: #d4ebff;}#sk-container-id-1 div.sk-label input.sk-toggleable__control:checked~label.sk-toggleable__label {background-color: #d4ebff;}#sk-container-id-1 input.sk-hidden--visually {border: 0;clip: rect(1px 1px 1px 1px);clip: rect(1px, 1px, 1px, 1px);height: 1px;margin: -1px;overflow: hidden;padding: 0;position: absolute;width: 1px;}#sk-container-id-1 div.sk-estimator {font-family: monospace;background-color: #f0f8ff;border: 1px dotted black;border-radius: 0.25em;box-sizing: border-box;margin-bottom: 0.5em;}#sk-container-id-1 div.sk-estimator:hover {background-color: #d4ebff;}#sk-container-id-1 div.sk-parallel-item::after {content: \"\";width: 100%;border-bottom: 1px solid gray;flex-grow: 1;}#sk-container-id-1 div.sk-label:hover label.sk-toggleable__label {background-color: #d4ebff;}#sk-container-id-1 div.sk-serial::before {content: \"\";position: absolute;border-left: 1px solid gray;box-sizing: border-box;top: 0;bottom: 0;left: 50%;z-index: 0;}#sk-container-id-1 div.sk-serial {display: flex;flex-direction: column;align-items: center;background-color: white;padding-right: 0.2em;padding-left: 0.2em;position: relative;}#sk-container-id-1 div.sk-item {position: relative;z-index: 1;}#sk-container-id-1 div.sk-parallel {display: flex;align-items: stretch;justify-content: center;background-color: white;position: relative;}#sk-container-id-1 div.sk-item::before, #sk-container-id-1 div.sk-parallel-item::before {content: \"\";position: absolute;border-left: 1px solid gray;box-sizing: border-box;top: 0;bottom: 0;left: 50%;z-index: -1;}#sk-container-id-1 div.sk-parallel-item {display: flex;flex-direction: column;z-index: 1;position: relative;background-color: white;}#sk-container-id-1 div.sk-parallel-item:first-child::after {align-self: flex-end;width: 50%;}#sk-container-id-1 div.sk-parallel-item:last-child::after {align-self: flex-start;width: 50%;}#sk-container-id-1 div.sk-parallel-item:only-child::after {width: 0;}#sk-container-id-1 div.sk-dashed-wrapped {border: 1px dashed gray;margin: 0 0.4em 0.5em 0.4em;box-sizing: border-box;padding-bottom: 0.4em;background-color: white;}#sk-container-id-1 div.sk-label label {font-family: monospace;font-weight: bold;display: inline-block;line-height: 1.2em;}#sk-container-id-1 div.sk-label-container {text-align: center;}#sk-container-id-1 div.sk-container {/* jupyter's `normalize.less` sets `[hidden] { display: none; }` but bootstrap.min.css set `[hidden] { display: none !important; }` so we also need the `!important` here to be able to override the default hidden behavior on the sphinx rendered scikit-learn.org. See: https://github.com/scikit-learn/scikit-learn/issues/21755 */display: inline-block !important;position: relative;}#sk-container-id-1 div.sk-text-repr-fallback {display: none;}</style><div id=\"sk-container-id-1\" class=\"sk-top-container\"><div class=\"sk-text-repr-fallback\"><pre>LinearRegression()</pre><b>In a Jupyter environment, please rerun this cell to show the HTML representation or trust the notebook. <br />On GitHub, the HTML representation is unable to render, please try loading this page with nbviewer.org.</b></div><div class=\"sk-container\" hidden><div class=\"sk-item\"><div class=\"sk-estimator sk-toggleable\"><input class=\"sk-toggleable__control sk-hidden--visually\" id=\"sk-estimator-id-1\" type=\"checkbox\" checked><label for=\"sk-estimator-id-1\" class=\"sk-toggleable__label sk-toggleable__label-arrow\">LinearRegression</label><div class=\"sk-toggleable__content\"><pre>LinearRegression()</pre></div></div></div></div></div>"
      ],
      "text/plain": [
       "LinearRegression()"
      ]
     },
     "execution_count": 17,
     "metadata": {},
     "output_type": "execute_result"
    }
   ],
   "source": [
    "\n",
    "#Linear Regression model\n",
    "from sklearn.linear_model import LinearRegression\n",
    "lr= LinearRegression()\n",
    "lr.fit(X_train,y_train)"
   ]
  },
  {
   "cell_type": "code",
   "execution_count": 18,
   "id": "0e643ee8",
   "metadata": {
    "execution": {
     "iopub.execute_input": "2024-11-29T17:05:25.473192Z",
     "iopub.status.busy": "2024-11-29T17:05:25.472755Z",
     "iopub.status.idle": "2024-11-29T17:05:25.479387Z",
     "shell.execute_reply": "2024-11-29T17:05:25.478362Z"
    },
    "id": "93d5sa1DWNx0",
    "outputId": "3be468b9-2952-463e-a216-e68bd2e106d4",
    "papermill": {
     "duration": 0.02082,
     "end_time": "2024-11-29T17:05:25.481661",
     "exception": false,
     "start_time": "2024-11-29T17:05:25.460841",
     "status": "completed"
    },
    "tags": []
   },
   "outputs": [
    {
     "data": {
      "text/plain": [
       "23.485738559737584"
      ]
     },
     "execution_count": 18,
     "metadata": {},
     "output_type": "execute_result"
    }
   ],
   "source": [
    "lr.intercept_"
   ]
  },
  {
   "cell_type": "code",
   "execution_count": 19,
   "id": "bdc74e76",
   "metadata": {
    "execution": {
     "iopub.execute_input": "2024-11-29T17:05:25.505647Z",
     "iopub.status.busy": "2024-11-29T17:05:25.505247Z",
     "iopub.status.idle": "2024-11-29T17:05:25.512207Z",
     "shell.execute_reply": "2024-11-29T17:05:25.511100Z"
    },
    "id": "Fcc53qzFWSlr",
    "outputId": "4bf84d7f-4510-4ff3-a42e-0c480379beab",
    "papermill": {
     "duration": 0.021568,
     "end_time": "2024-11-29T17:05:25.514498",
     "exception": false,
     "start_time": "2024-11-29T17:05:25.492930",
     "status": "completed"
    },
    "tags": []
   },
   "outputs": [
    {
     "data": {
      "text/plain": [
       "array([-1.05767743, -1.68734727, -4.10787617, -0.11495177])"
      ]
     },
     "execution_count": 19,
     "metadata": {},
     "output_type": "execute_result"
    }
   ],
   "source": [
    "\n",
    "lr.coef_"
   ]
  },
  {
   "cell_type": "markdown",
   "id": "45f7e545",
   "metadata": {
    "id": "KQqymGlfUrOc",
    "papermill": {
     "duration": 0.01065,
     "end_time": "2024-11-29T17:05:25.536315",
     "exception": false,
     "start_time": "2024-11-29T17:05:25.525665",
     "status": "completed"
    },
    "tags": []
   },
   "source": [
    "# Prediction"
   ]
  },
  {
   "cell_type": "code",
   "execution_count": 20,
   "id": "61eb81bb",
   "metadata": {
    "execution": {
     "iopub.execute_input": "2024-11-29T17:05:25.560104Z",
     "iopub.status.busy": "2024-11-29T17:05:25.559682Z",
     "iopub.status.idle": "2024-11-29T17:05:25.567871Z",
     "shell.execute_reply": "2024-11-29T17:05:25.566841Z"
    },
    "id": "xtu6mQSGWmRK",
    "outputId": "f3b6ef49-79c1-4ec5-a337-b91ac61860f6",
    "papermill": {
     "duration": 0.022529,
     "end_time": "2024-11-29T17:05:25.570026",
     "exception": false,
     "start_time": "2024-11-29T17:05:25.547497",
     "status": "completed"
    },
    "tags": []
   },
   "outputs": [
    {
     "data": {
      "text/plain": [
       "array([18.51865637, 15.09305675, 14.30128789, 23.6753321 , 29.7546115 ,\n",
       "       23.68796629, 26.61066644, 24.56692437, 15.06260986, 11.94312046,\n",
       "       24.08050053, 27.96518468, 31.66130278, 31.01309132, 18.32428976,\n",
       "       19.32795009, 28.08847536, 32.1506879 , 31.15859692, 27.15792144,\n",
       "       18.82433097, 22.54580176, 26.15598115, 32.36393869, 20.74377679,\n",
       "        8.78027518, 22.19699435, 18.20614294, 25.00052718, 15.26421552,\n",
       "       23.13441082, 17.10542257,  9.87180062, 30.00790415, 20.41204655,\n",
       "       29.11860245, 24.4305187 , 21.72601835, 10.51174626, 13.12426391,\n",
       "       21.41938406, 19.96113872,  6.19146626, 17.79025345, 22.5493033 ,\n",
       "       29.34765021, 13.4861847 , 25.88852083, 29.40406946, 22.41841964,\n",
       "       22.07684766, 16.46575802, 24.06290693, 30.12890046, 10.11318121,\n",
       "        9.85011438, 28.07543852, 23.41426617, 20.08501128, 30.68234133,\n",
       "       20.92026393, 26.78370281, 22.9078744 , 14.15936872, 24.6439883 ,\n",
       "       26.95515832, 15.25709393, 24.11272087, 30.80980589, 14.9770217 ,\n",
       "       27.67836372, 24.2372919 , 10.92177228, 30.22858779, 30.88687365,\n",
       "       27.33992044, 31.18447082, 10.8873597 , 27.63510608, 16.49231363,\n",
       "       25.63229888, 29.49776285, 14.90393439, 32.78670687, 30.37325244,\n",
       "       30.9262743 , 14.71702373, 27.09633246, 26.69933806, 29.06424799,\n",
       "       32.45810182, 29.44846898, 31.61239999, 31.57891837, 21.46542321,\n",
       "       31.76739191, 26.28605476, 28.96419915, 31.09628395, 24.80549594,\n",
       "       18.76490961, 23.28043777, 23.04466919, 22.14143162, 15.95854367,\n",
       "       28.62870918, 25.58809869, 11.4040908 , 25.73334842, 30.83500051,\n",
       "       21.94176255, 15.34532941, 30.37399213, 28.7620624 , 29.3639931 ,\n",
       "       29.10476703, 20.44662365, 28.11466839])"
      ]
     },
     "execution_count": 20,
     "metadata": {},
     "output_type": "execute_result"
    }
   ],
   "source": [
    "y_pred=lr.predict(X_test)\n",
    "y_pred"
   ]
  },
  {
   "cell_type": "markdown",
   "id": "7a6baecc",
   "metadata": {
    "id": "XhrZSwT3Up4z",
    "papermill": {
     "duration": 0.01066,
     "end_time": "2024-11-29T17:05:25.591727",
     "exception": false,
     "start_time": "2024-11-29T17:05:25.581067",
     "status": "completed"
    },
    "tags": []
   },
   "source": [
    "# Model Evaluation"
   ]
  },
  {
   "cell_type": "code",
   "execution_count": 21,
   "id": "bae04079",
   "metadata": {
    "execution": {
     "iopub.execute_input": "2024-11-29T17:05:25.615747Z",
     "iopub.status.busy": "2024-11-29T17:05:25.614864Z",
     "iopub.status.idle": "2024-11-29T17:05:25.622064Z",
     "shell.execute_reply": "2024-11-29T17:05:25.621109Z"
    },
    "id": "zSRrfWOaWnmT",
    "outputId": "f3009f55-ce1a-41c8-cf9c-a517528b69b0",
    "papermill": {
     "duration": 0.021417,
     "end_time": "2024-11-29T17:05:25.624181",
     "exception": false,
     "start_time": "2024-11-29T17:05:25.602764",
     "status": "completed"
    },
    "tags": []
   },
   "outputs": [
    {
     "data": {
      "text/plain": [
       "3.3286968643244106"
      ]
     },
     "execution_count": 21,
     "metadata": {},
     "output_type": "execute_result"
    }
   ],
   "source": [
    "from sklearn.metrics import mean_absolute_error,mean_absolute_percentage_error,r2_score\n",
    "mean_absolute_error(y_test,y_pred)"
   ]
  },
  {
   "cell_type": "code",
   "execution_count": 22,
   "id": "6e89a066",
   "metadata": {
    "execution": {
     "iopub.execute_input": "2024-11-29T17:05:25.649459Z",
     "iopub.status.busy": "2024-11-29T17:05:25.649096Z",
     "iopub.status.idle": "2024-11-29T17:05:25.656274Z",
     "shell.execute_reply": "2024-11-29T17:05:25.655236Z"
    },
    "id": "_zuMx3LxWu3D",
    "outputId": "725fe390-d20a-4544-f9af-fe49de803278",
    "papermill": {
     "duration": 0.023006,
     "end_time": "2024-11-29T17:05:25.658278",
     "exception": false,
     "start_time": "2024-11-29T17:05:25.635272",
     "status": "completed"
    },
    "tags": []
   },
   "outputs": [
    {
     "data": {
      "text/plain": [
       "0.14713035779536746"
      ]
     },
     "execution_count": 22,
     "metadata": {},
     "output_type": "execute_result"
    }
   ],
   "source": [
    "mean_absolute_percentage_error(y_test,y_pred)"
   ]
  },
  {
   "cell_type": "code",
   "execution_count": 23,
   "id": "c1ceb4b7",
   "metadata": {
    "execution": {
     "iopub.execute_input": "2024-11-29T17:05:25.683063Z",
     "iopub.status.busy": "2024-11-29T17:05:25.681935Z",
     "iopub.status.idle": "2024-11-29T17:05:25.689182Z",
     "shell.execute_reply": "2024-11-29T17:05:25.688210Z"
    },
    "id": "DMENnD4BYFvO",
    "outputId": "982bf8e9-8a43-4589-d5e2-de99981f7ce8",
    "papermill": {
     "duration": 0.02162,
     "end_time": "2024-11-29T17:05:25.691281",
     "exception": false,
     "start_time": "2024-11-29T17:05:25.669661",
     "status": "completed"
    },
    "tags": []
   },
   "outputs": [
    {
     "data": {
      "text/plain": [
       "0.7031250746717691"
      ]
     },
     "execution_count": 23,
     "metadata": {},
     "output_type": "execute_result"
    }
   ],
   "source": [
    "r2_score(y_test,y_pred)"
   ]
  },
  {
   "cell_type": "markdown",
   "id": "670856f4",
   "metadata": {
    "id": "1lXI3IDuUsJM",
    "papermill": {
     "duration": 0.011346,
     "end_time": "2024-11-29T17:05:25.714302",
     "exception": false,
     "start_time": "2024-11-29T17:05:25.702956",
     "status": "completed"
    },
    "tags": []
   },
   "source": [
    "# Explaination\n",
    "---\n",
    "### The metrics  calculated can be interpreted as follows:\n",
    "1. Mean Absolute Error (MAE): This is the average of the absolute difference between the predicted and actual values. It gives an idea of how wrong my predictions were. A value of 3.33 means that on average, my predictions are 3.33 units away from the actual values.\n",
    "\n",
    "2. Mean Absolute Percentage Error (MAPE): This is similar to MAE but is expressed in percentage terms. It provides a relative measure of error with respect to the actual values. A MAPE of 0.147 (or 14.7%) means that on average, my predictions are off by about 14.7% from the actual values.\n",
    "\n",
    "3. R-squared Score: This metric provides an indication of the goodness of fit of a set of predictions to the actual values. In other words, it represents how much of the variance in my data can be explained by my model. An R-squared score of 0.703 means that approximately 70% of the variance in y_test can be explained by my model."
   ]
  }
 ],
 "metadata": {
  "colab": {
   "provenance": []
  },
  "kaggle": {
   "accelerator": "none",
   "dataSources": [],
   "dockerImageVersionId": 30558,
   "isGpuEnabled": false,
   "isInternetEnabled": true,
   "language": "python",
   "sourceType": "notebook"
  },
  "kernelspec": {
   "display_name": "Python 3",
   "language": "python",
   "name": "python3"
  },
  "language_info": {
   "codemirror_mode": {
    "name": "ipython",
    "version": 3
   },
   "file_extension": ".py",
   "mimetype": "text/x-python",
   "name": "python",
   "nbconvert_exporter": "python",
   "pygments_lexer": "ipython3",
   "version": "3.10.12"
  },
  "papermill": {
   "default_parameters": {},
   "duration": 10.092839,
   "end_time": "2024-11-29T17:05:26.346405",
   "environment_variables": {},
   "exception": null,
   "input_path": "__notebook__.ipynb",
   "output_path": "__notebook__.ipynb",
   "parameters": {},
   "start_time": "2024-11-29T17:05:16.253566",
   "version": "2.4.0"
  }
 },
 "nbformat": 4,
 "nbformat_minor": 5
}
